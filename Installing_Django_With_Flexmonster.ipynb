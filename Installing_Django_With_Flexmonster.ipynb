{
  "cells": [
    {
      "cell_type": "markdown",
      "metadata": {
        "id": "view-in-github",
        "colab_type": "text"
      },
      "source": [
        "<a href=\"https://colab.research.google.com/github/forooghian/ColabNotebooks/blob/main/Installing_Django_With_Flexmonster.ipynb\" target=\"_parent\"><img src=\"https://colab.research.google.com/assets/colab-badge.svg\" alt=\"Open In Colab\"/></a>"
      ]
    },
    {
      "cell_type": "markdown",
      "source": [
        "# **How to use Google Colab to clone and run a Django project repository in Google Drive?**"
      ],
      "metadata": {
        "id": "wGPP6iQI9Wk0"
      }
    },
    {
      "cell_type": "markdown",
      "source": [
        "## Step 1: Mount Google Drive to Google Colab Notebook"
      ],
      "metadata": {
        "id": "Ym4HcxbYsdR5"
      }
    },
    {
      "cell_type": "code",
      "source": [
        "from google.colab import drive\n",
        "drive.mount('/content/drive')"
      ],
      "metadata": {
        "id": "bzjFVPUgCqXd",
        "outputId": "5839dec0-17b4-44cf-e30f-ca3a5206e4f8",
        "colab": {
          "base_uri": "https://localhost:8080/"
        }
      },
      "execution_count": 1,
      "outputs": [
        {
          "output_type": "stream",
          "name": "stdout",
          "text": [
            "Mounted at /content/drive\n"
          ]
        }
      ]
    },
    {
      "cell_type": "markdown",
      "source": [
        "## Step 2: Import necessary librareis"
      ],
      "metadata": {
        "id": "LhI-wQRh-oj4"
      }
    },
    {
      "cell_type": "code",
      "source": [
        "import os\n",
        "import shutil"
      ],
      "metadata": {
        "id": "QKWHR1Xhztn_"
      },
      "execution_count": null,
      "outputs": []
    },
    {
      "cell_type": "markdown",
      "source": [
        "## Step 3: install Django in Colab environment"
      ],
      "metadata": {
        "id": "5Y168-bl_qrV"
      }
    },
    {
      "cell_type": "code",
      "source": [
        "!pip install django"
      ],
      "metadata": {
        "colab": {
          "base_uri": "https://localhost:8080/"
        },
        "id": "MioEi2VdYEey",
        "outputId": "2d178dcd-f39d-478b-cc94-fdf6b5e62cf0"
      },
      "execution_count": null,
      "outputs": [
        {
          "output_type": "stream",
          "name": "stdout",
          "text": [
            "Looking in indexes: https://pypi.org/simple, https://us-python.pkg.dev/colab-wheels/public/simple/\n",
            "Requirement already satisfied: django in /usr/local/lib/python3.10/dist-packages (4.1.2)\n",
            "Requirement already satisfied: asgiref<4,>=3.5.2 in /usr/local/lib/python3.10/dist-packages (from django) (3.5.2)\n",
            "Requirement already satisfied: sqlparse>=0.2.2 in /usr/local/lib/python3.10/dist-packages (from django) (0.4.3)\n"
          ]
        }
      ]
    },
    {
      "cell_type": "markdown",
      "source": [
        "## Step 4: Change present working directory"
      ],
      "metadata": {
        "id": "bOTl1QaDsqTw"
      }
    },
    {
      "cell_type": "code",
      "source": [
        "%cd /content/drive/MyDrive/"
      ],
      "metadata": {
        "id": "119_t5RLe0Y0",
        "outputId": "a7a4074a-27b7-4f25-8dd9-6d06c138a045",
        "colab": {
          "base_uri": "https://localhost:8080/"
        }
      },
      "execution_count": null,
      "outputs": [
        {
          "output_type": "stream",
          "name": "stdout",
          "text": [
            "/content/drive/MyDrive\n"
          ]
        }
      ]
    },
    {
      "cell_type": "markdown",
      "source": [
        "## Step 5: Check if project folder is exists or not.\n",
        "\n",
        "As we can not clone repository in existing folder, we should remove previous folder."
      ],
      "metadata": {
        "id": "lMn-yaYGNrz-"
      }
    },
    {
      "cell_type": "code",
      "source": [
        "django = \"/content/drive/MyDrive/django/\"\n",
        "if not os.path.exists(django):\n",
        "  print(\"The folder is not exist!\")\n",
        "else:\n",
        "  print(\"The folder is exist! so, we first remove it.\")\n",
        "  shutil.rmtree(django)"
      ],
      "metadata": {
        "id": "rOctJyzAzyzB",
        "colab": {
          "base_uri": "https://localhost:8080/"
        },
        "outputId": "8bd25d65-f219-4ee1-e716-db2203551094"
      },
      "execution_count": null,
      "outputs": [
        {
          "output_type": "stream",
          "name": "stdout",
          "text": [
            "The folder is not exist!\n"
          ]
        }
      ]
    },
    {
      "cell_type": "markdown",
      "source": [
        "## Step 6: Clone an existing Git repository"
      ],
      "metadata": {
        "id": "Q8TZhzMqtql6"
      }
    },
    {
      "cell_type": "code",
      "source": [
        "!git clone https://github.com/forooghian/django.git ./django"
      ],
      "metadata": {
        "colab": {
          "base_uri": "https://localhost:8080/"
        },
        "id": "Bo-A-CUfIhSO",
        "outputId": "bae4ac83-a6a7-439c-8f8d-63ca342450ea"
      },
      "execution_count": null,
      "outputs": [
        {
          "output_type": "stream",
          "name": "stdout",
          "text": [
            "Cloning into './django'...\n",
            "remote: Enumerating objects: 179, done.\u001b[K\n",
            "remote: Counting objects: 100% (179/179), done.\u001b[K\n",
            "remote: Compressing objects: 100% (138/138), done.\u001b[K\n",
            "remote: Total 179 (delta 89), reused 103 (delta 29), pack-reused 0\u001b[K\n",
            "Receiving objects: 100% (179/179), 30.75 KiB | 1.62 MiB/s, done.\n",
            "Resolving deltas: 100% (89/89), done.\n"
          ]
        }
      ]
    },
    {
      "cell_type": "markdown",
      "source": [
        "## Step 7: Navigate to our project folder"
      ],
      "metadata": {
        "id": "IXmTyy3oPcHk"
      }
    },
    {
      "cell_type": "code",
      "source": [
        "%cd /content/drive/MyDrive/django"
      ],
      "metadata": {
        "colab": {
          "base_uri": "https://localhost:8080/"
        },
        "id": "ITLlyiugEmfl",
        "outputId": "49802e2f-2fe5-4b09-fad3-4f6312b36fc8"
      },
      "execution_count": null,
      "outputs": [
        {
          "output_type": "stream",
          "name": "stdout",
          "text": [
            "/content/drive/MyDrive/django\n"
          ]
        }
      ]
    },
    {
      "cell_type": "markdown",
      "source": [
        "## Step 8: Install project requirments."
      ],
      "metadata": {
        "id": "viNN2bzgPwUn"
      }
    },
    {
      "cell_type": "code",
      "source": [
        "!pip install -r requirments.txt"
      ],
      "metadata": {
        "colab": {
          "base_uri": "https://localhost:8080/"
        },
        "id": "8j-LPzP4LCrt",
        "outputId": "766b5446-fcc5-4a9a-843c-6d6dc51f0ee5"
      },
      "execution_count": null,
      "outputs": [
        {
          "output_type": "stream",
          "name": "stdout",
          "text": [
            "Looking in indexes: https://pypi.org/simple, https://us-python.pkg.dev/colab-wheels/public/simple/\n",
            "Requirement already satisfied: asgiref==3.5.2 in /usr/local/lib/python3.10/dist-packages (from -r requirments.txt (line 1)) (3.5.2)\n",
            "Requirement already satisfied: Django==4.1.2 in /usr/local/lib/python3.10/dist-packages (from -r requirments.txt (line 2)) (4.1.2)\n",
            "Requirement already satisfied: sqlparse==0.4.3 in /usr/local/lib/python3.10/dist-packages (from -r requirments.txt (line 3)) (0.4.3)\n",
            "Requirement already satisfied: tzdata==2022.5 in /usr/local/lib/python3.10/dist-packages (from -r requirments.txt (line 4)) (2022.5)\n",
            "Requirement already satisfied: djangorestframework in /usr/local/lib/python3.10/dist-packages (from -r requirments.txt (line 5)) (3.14.0)\n",
            "Requirement already satisfied: markdown in /usr/local/lib/python3.10/dist-packages (from -r requirments.txt (line 6)) (3.4.3)\n",
            "Requirement already satisfied: django-filter in /usr/local/lib/python3.10/dist-packages (from -r requirments.txt (line 7)) (23.2)\n",
            "Requirement already satisfied: pytz in /usr/local/lib/python3.10/dist-packages (from djangorestframework->-r requirments.txt (line 5)) (2022.7.1)\n"
          ]
        }
      ]
    },
    {
      "cell_type": "markdown",
      "source": [
        "## Step 9: prepare migrations"
      ],
      "metadata": {
        "id": "TBL1I0j9QT9n"
      }
    },
    {
      "cell_type": "code",
      "source": [
        "!python manage.py makemigrations"
      ],
      "metadata": {
        "colab": {
          "base_uri": "https://localhost:8080/"
        },
        "id": "BWBOk1-4Ltin",
        "outputId": "6aa0b592-789c-4711-eb14-39867fc1c8f9"
      },
      "execution_count": null,
      "outputs": [
        {
          "output_type": "stream",
          "name": "stdout",
          "text": [
            "No changes detected\n"
          ]
        }
      ]
    },
    {
      "cell_type": "markdown",
      "source": [
        "## Step 10: Apply migrations"
      ],
      "metadata": {
        "id": "rvpGNFriQuVG"
      }
    },
    {
      "cell_type": "code",
      "source": [
        "!python manage.py migrate"
      ],
      "metadata": {
        "id": "aNCt5xgAPHUU",
        "outputId": "a073b562-b5e2-4a2c-97dd-b2fbb609c563",
        "colab": {
          "base_uri": "https://localhost:8080/"
        }
      },
      "execution_count": null,
      "outputs": [
        {
          "output_type": "stream",
          "name": "stdout",
          "text": [
            "\u001b[36;1mOperations to perform:\u001b[0m\n",
            "\u001b[1m  Apply all migrations: \u001b[0madmin, auth, contenttypes, sessions\n",
            "\u001b[36;1mRunning migrations:\u001b[0m\n",
            "  Applying contenttypes.0001_initial...\u001b[32;1m OK\u001b[0m\n",
            "  Applying auth.0001_initial...\u001b[32;1m OK\u001b[0m\n",
            "  Applying admin.0001_initial...\u001b[32;1m OK\u001b[0m\n",
            "  Applying admin.0002_logentry_remove_auto_add...\u001b[32;1m OK\u001b[0m\n",
            "  Applying admin.0003_logentry_add_action_flag_choices...\u001b[32;1m OK\u001b[0m\n",
            "  Applying contenttypes.0002_remove_content_type_name...\u001b[32;1m OK\u001b[0m\n",
            "  Applying auth.0002_alter_permission_name_max_length...\u001b[32;1m OK\u001b[0m\n",
            "  Applying auth.0003_alter_user_email_max_length...\u001b[32;1m OK\u001b[0m\n",
            "  Applying auth.0004_alter_user_username_opts...\u001b[32;1m OK\u001b[0m\n",
            "  Applying auth.0005_alter_user_last_login_null...\u001b[32;1m OK\u001b[0m\n",
            "  Applying auth.0006_require_contenttypes_0002...\u001b[32;1m OK\u001b[0m\n",
            "  Applying auth.0007_alter_validators_add_error_messages...\u001b[32;1m OK\u001b[0m\n",
            "  Applying auth.0008_alter_user_username_max_length...\u001b[32;1m OK\u001b[0m\n",
            "  Applying auth.0009_alter_user_last_name_max_length...\u001b[32;1m OK\u001b[0m\n",
            "  Applying auth.0010_alter_group_name_max_length...\u001b[32;1m OK\u001b[0m\n",
            "  Applying auth.0011_update_proxy_permissions...\u001b[32;1m OK\u001b[0m\n",
            "  Applying auth.0012_alter_user_first_name_max_length...\u001b[32;1m OK\u001b[0m\n",
            "  Applying sessions.0001_initial...\u001b[32;1m OK\u001b[0m\n"
          ]
        }
      ]
    },
    {
      "cell_type": "markdown",
      "source": [
        "## Step 11: create a virtual server on port 8000 and print the server address."
      ],
      "metadata": {
        "id": "CX-iwcXKQzaV"
      }
    },
    {
      "cell_type": "code",
      "source": [
        "from google.colab.output import eval_js\n",
        "server_address = eval_js(\"google.colab.kernel.proxyPort(8000)\")"
      ],
      "metadata": {
        "id": "9F-V516RKT7d"
      },
      "execution_count": null,
      "outputs": []
    },
    {
      "cell_type": "markdown",
      "source": [
        "## Step 12: Run our django project server!"
      ],
      "metadata": {
        "id": "nwUdRouiRJaT"
      }
    },
    {
      "cell_type": "code",
      "source": [
        "!python manage.py runserver 8000"
      ],
      "metadata": {
        "colab": {
          "base_uri": "https://localhost:8080/"
        },
        "id": "3LlM-qgTKs52",
        "outputId": "7a79b8fd-9b76-4ec3-e02b-9db170321701"
      },
      "execution_count": null,
      "outputs": [
        {
          "metadata": {
            "tags": null
          },
          "name": "stdout",
          "output_type": "stream",
          "text": [
            "Watching for file changes with StatReloader\n",
            "Performing system checks...\n",
            "\n",
            "System check identified no issues (0 silenced).\n",
            "\u001b[31m\n",
            "You have 18 unapplied migration(s). Your project may not work properly until you apply the migrations for app(s): admin, auth, contenttypes, sessions.\u001b[0m\n",
            "\u001b[31mRun 'python manage.py migrate' to apply them.\u001b[0m\n",
            "May 13, 2023 - 05:41:46\n",
            "Django version 4.1.2, using settings 'backend.settings'\n",
            "Starting development server at http://127.0.0.1:8000/\n",
            "Quit the server with CONTROL-C.\n",
            "Not Found: /\n",
            "[13/May/2023 05:41:49] \u001b[33m\"GET / HTTP/1.1\" 404 2177\u001b[0m\n",
            "[13/May/2023 05:42:06] \u001b[m\"GET /divar/ HTTP/1.1\" 200 9965\u001b[0m\n",
            "[13/May/2023 05:42:07] \u001b[m\"GET /static/rest_framework/css/bootstrap.min.css HTTP/1.1\" 200 121457\u001b[0m\n",
            "[13/May/2023 05:42:07] \u001b[m\"GET /static/rest_framework/css/default.css HTTP/1.1\" 200 1152\u001b[0m\n",
            "[13/May/2023 05:42:07] \u001b[m\"GET /static/rest_framework/css/bootstrap-tweaks.css HTTP/1.1\" 200 3385\u001b[0m\n",
            "[13/May/2023 05:42:07] \u001b[m\"GET /static/rest_framework/js/prettify-min.js HTTP/1.1\" 200 13632\u001b[0m\n",
            "[13/May/2023 05:42:07] \u001b[m\"GET /static/rest_framework/js/ajax-form.js HTTP/1.1\" 200 3597\u001b[0m\n",
            "[13/May/2023 05:42:07] \u001b[m\"GET /static/rest_framework/js/jquery-3.5.1.min.js HTTP/1.1\" 200 89476\u001b[0m\n",
            "[13/May/2023 05:42:07] \u001b[m\"GET /static/rest_framework/js/default.js HTTP/1.1\" 200 1268\u001b[0m\n",
            "[13/May/2023 05:42:07] \u001b[m\"GET /static/rest_framework/js/bootstrap.min.js HTTP/1.1\" 200 39680\u001b[0m\n",
            "[13/May/2023 05:42:07] \u001b[m\"GET /static/rest_framework/css/prettify.css HTTP/1.1\" 200 817\u001b[0m\n",
            "[13/May/2023 05:42:08] \u001b[m\"GET /static/rest_framework/js/csrf.js HTTP/1.1\" 200 1719\u001b[0m\n",
            "[13/May/2023 05:42:08] \u001b[m\"GET /static/rest_framework/img/grid.png HTTP/1.1\" 200 1458\u001b[0m\n",
            "Not Found: /favicon.ico\n",
            "[13/May/2023 05:42:09] \u001b[33m\"GET /favicon.ico HTTP/1.1\" 404 2228\u001b[0m\n"
          ]
        }
      ]
    },
    {
      "cell_type": "markdown",
      "source": [
        "## Step 12: Here is the test url name(Methods) whith their address. Open Postman and check APIs."
      ],
      "metadata": {
        "id": "be6lMdxTRULj"
      }
    },
    {
      "cell_type": "markdown",
      "source": [
        "### 12-1.   Index:(GET)\n",
        "Its home page of our API"
      ],
      "metadata": {
        "id": "-WQ0XFeUUeWa"
      }
    },
    {
      "cell_type": "code",
      "source": [
        "print(server_address+'/divar/')"
      ],
      "metadata": {
        "id": "OUifmFdTTyWB",
        "outputId": "af032605-d707-47e5-be12-8ec794197238",
        "colab": {
          "base_uri": "https://localhost:8080/"
        }
      },
      "execution_count": null,
      "outputs": [
        {
          "output_type": "stream",
          "name": "stdout",
          "text": [
            "https://3zkw3t9fn19-496ff2e9c6d22116-8000-colab.googleusercontent.com//divar/\n"
          ]
        }
      ]
    },
    {
      "cell_type": "markdown",
      "source": [
        "### 12-2. Get all advertisements:(GET)\n"
      ],
      "metadata": {
        "id": "jXX9bY64Urmp"
      }
    },
    {
      "cell_type": "code",
      "source": [
        "print(server_address+'/divar/advertisements/')"
      ],
      "metadata": {
        "id": "SUCAy4QAUNe6",
        "outputId": "5dd8abe4-1fd9-4ca8-a84f-9266260ab3f5",
        "colab": {
          "base_uri": "https://localhost:8080/"
        }
      },
      "execution_count": null,
      "outputs": [
        {
          "output_type": "stream",
          "name": "stdout",
          "text": [
            "https://3zkw3t9fn19-496ff2e9c6d22116-8000-colab.googleusercontent.com//divar/advertisements/\n"
          ]
        }
      ]
    },
    {
      "cell_type": "markdown",
      "source": [
        "### 12-3. Add new advertise:(POST)"
      ],
      "metadata": {
        "id": "ClmqNZfpVMt5"
      }
    },
    {
      "cell_type": "code",
      "source": [
        "print(server_address+'/divar/advertisements/add_new/')"
      ],
      "metadata": {
        "id": "WjEJDHb0UQ06"
      },
      "execution_count": null,
      "outputs": []
    },
    {
      "cell_type": "markdown",
      "source": [
        "### 12-4. Update an existing advertise:(PUT)"
      ],
      "metadata": {
        "id": "VpkUMKSIVxcC"
      }
    },
    {
      "cell_type": "code",
      "source": [
        "print(server_address+'/divar/advertisements/update/')"
      ],
      "metadata": {
        "id": "NF-Jt3bGUU6q",
        "outputId": "be113cb9-750c-4ef6-b8e7-414b23cb2a14",
        "colab": {
          "base_uri": "https://localhost:8080/"
        }
      },
      "execution_count": null,
      "outputs": [
        {
          "output_type": "stream",
          "name": "stdout",
          "text": [
            "https://3zkw3t9fn19-496ff2e9c6d22116-8000-colab.googleusercontent.com//divar/advertisements/update/\n"
          ]
        }
      ]
    },
    {
      "cell_type": "markdown",
      "source": [
        "### 12-5. Remove an existing advertise:(POST)"
      ],
      "metadata": {
        "id": "8RHF2OBnWFFz"
      }
    },
    {
      "cell_type": "code",
      "source": [
        "print(server_address+'/divar/advertisements/remove/')"
      ],
      "metadata": {
        "id": "WBG3YkklUaQ5",
        "outputId": "4447e034-0a2b-4073-9229-ed863d93f0d0",
        "colab": {
          "base_uri": "https://localhost:8080/"
        }
      },
      "execution_count": null,
      "outputs": [
        {
          "output_type": "stream",
          "name": "stdout",
          "text": [
            "https://3zkw3t9fn19-496ff2e9c6d22116-8000-colab.googleusercontent.com//divar/advertisements/remove/\n"
          ]
        }
      ]
    },
    {
      "cell_type": "markdown",
      "source": [
        "## Step 13 Remove project from our google drive.\n",
        "As our Google Drive storate is limited, we should remove our code after use it.\n",
        "Feel free! The project code remains on GitHub for feture use.\n",
        "So, first navigate to our Google Drive home folder."
      ],
      "metadata": {
        "id": "dJh2_LXBy_vp"
      }
    },
    {
      "cell_type": "code",
      "source": [
        "%cd /content/drive/MyDrive/"
      ],
      "metadata": {
        "id": "sFEsmYyWzBXw"
      },
      "execution_count": null,
      "outputs": []
    },
    {
      "cell_type": "markdown",
      "source": [
        "Then remove project folder. Before that, we should check folder availablity."
      ],
      "metadata": {
        "id": "wdg99kRrzDIg"
      }
    },
    {
      "cell_type": "code",
      "source": [
        "django = \"/content/drive/MyDrive/django/\"\n",
        "if not os.path.exists(django):\n",
        "  print(\"The folder is not exist!\")\n",
        "else:\n",
        "  print(\"The folder is exist! so, we remove it.\")\n",
        "  shutil.rmtree(django)"
      ],
      "metadata": {
        "colab": {
          "base_uri": "https://localhost:8080/"
        },
        "outputId": "8bd25d65-f219-4ee1-e716-db2203551094",
        "id": "4ZCoZJsozI2Z"
      },
      "execution_count": null,
      "outputs": [
        {
          "output_type": "stream",
          "name": "stdout",
          "text": [
            "The folder is not exist!\n"
          ]
        }
      ]
    }
  ],
  "metadata": {
    "colab": {
      "provenance": [],
      "authorship_tag": "ABX9TyNm5vt+XtGlUu0IX0PIfpjd",
      "include_colab_link": true
    },
    "kernelspec": {
      "display_name": "Python 3",
      "name": "python3"
    },
    "language_info": {
      "name": "python"
    }
  },
  "nbformat": 4,
  "nbformat_minor": 0
}