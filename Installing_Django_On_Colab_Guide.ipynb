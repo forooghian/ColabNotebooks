{
  "cells": [
    {
      "cell_type": "markdown",
      "metadata": {
        "id": "view-in-github",
        "colab_type": "text"
      },
      "source": [
        "<a href=\"https://colab.research.google.com/github/forooghian/ColabNotebooks/blob/main/Installing_Django_On_Colab_Guide.ipynb\" target=\"_parent\"><img src=\"https://colab.research.google.com/assets/colab-badge.svg\" alt=\"Open In Colab\"/></a>"
      ]
    },
    {
      "cell_type": "markdown",
      "source": [
        "# **How to use Google Colab to clone and run a Django project repository in Google Drive?**"
      ],
      "metadata": {
        "id": "wGPP6iQI9Wk0"
      }
    },
    {
      "cell_type": "markdown",
      "source": [
        "## Step 1: Mount Google Drive to Google Colab Notebook"
      ],
      "metadata": {
        "id": "Ym4HcxbYsdR5"
      }
    },
    {
      "cell_type": "code",
      "source": [
        "from google.colab import drive\n",
        "drive.mount('/content/drive')"
      ],
      "metadata": {
        "id": "bzjFVPUgCqXd",
        "outputId": "65f5da37-d632-4361-b477-99b8c8a71689",
        "colab": {
          "base_uri": "https://localhost:8080/"
        }
      },
      "execution_count": 17,
      "outputs": [
        {
          "output_type": "stream",
          "name": "stdout",
          "text": [
            "Drive already mounted at /content/drive; to attempt to forcibly remount, call drive.mount(\"/content/drive\", force_remount=True).\n"
          ]
        }
      ]
    },
    {
      "cell_type": "markdown",
      "source": [
        "## Step 2: Import necessary librareis"
      ],
      "metadata": {
        "id": "LhI-wQRh-oj4"
      }
    },
    {
      "cell_type": "code",
      "source": [
        "import os\n",
        "import shutil"
      ],
      "metadata": {
        "id": "QKWHR1Xhztn_"
      },
      "execution_count": 18,
      "outputs": []
    },
    {
      "cell_type": "markdown",
      "source": [
        "## Step 3: install Django in Colab environment"
      ],
      "metadata": {
        "id": "5Y168-bl_qrV"
      }
    },
    {
      "cell_type": "code",
      "source": [
        "!pip install django"
      ],
      "metadata": {
        "colab": {
          "base_uri": "https://localhost:8080/"
        },
        "id": "MioEi2VdYEey",
        "outputId": "5113f69e-280a-498b-c153-b3c324cc398a"
      },
      "execution_count": 19,
      "outputs": [
        {
          "output_type": "stream",
          "name": "stdout",
          "text": [
            "Looking in indexes: https://pypi.org/simple, https://us-python.pkg.dev/colab-wheels/public/simple/\n",
            "Requirement already satisfied: django in /usr/local/lib/python3.10/dist-packages (4.1.2)\n",
            "Requirement already satisfied: asgiref<4,>=3.5.2 in /usr/local/lib/python3.10/dist-packages (from django) (3.5.2)\n",
            "Requirement already satisfied: sqlparse>=0.2.2 in /usr/local/lib/python3.10/dist-packages (from django) (0.4.3)\n"
          ]
        }
      ]
    },
    {
      "cell_type": "markdown",
      "source": [
        "## Step 4: Change present working directory"
      ],
      "metadata": {
        "id": "bOTl1QaDsqTw"
      }
    },
    {
      "cell_type": "code",
      "source": [
        "%cd /content/drive/MyDrive/"
      ],
      "metadata": {
        "id": "119_t5RLe0Y0",
        "outputId": "3c589151-b7d7-4a63-af70-4a5daff15fa6",
        "colab": {
          "base_uri": "https://localhost:8080/"
        }
      },
      "execution_count": 25,
      "outputs": [
        {
          "output_type": "stream",
          "name": "stdout",
          "text": [
            "/content/drive/MyDrive\n"
          ]
        }
      ]
    },
    {
      "cell_type": "code",
      "source": [
        "django = \"/content/drive/MyDrive/django/\"\n",
        "if not os.path.exists(django):\n",
        "  print(\"The folder is not exist!\")\n",
        "else:\n",
        "  print(\"The folder is exist! so, we first remove it.\")\n",
        "  shutil.rmtree(django)"
      ],
      "metadata": {
        "id": "rOctJyzAzyzB",
        "colab": {
          "base_uri": "https://localhost:8080/"
        },
        "outputId": "1f70954b-3dbe-431e-dd65-cb31a85504ea"
      },
      "execution_count": 26,
      "outputs": [
        {
          "output_type": "stream",
          "name": "stdout",
          "text": [
            "The folder is not exist!\n"
          ]
        }
      ]
    },
    {
      "cell_type": "markdown",
      "source": [
        "## Step : Clone an existing Git repository"
      ],
      "metadata": {
        "id": "Q8TZhzMqtql6"
      }
    },
    {
      "cell_type": "code",
      "source": [
        "!git clone https://github.com/forooghian/django.git ./django"
      ],
      "metadata": {
        "colab": {
          "base_uri": "https://localhost:8080/"
        },
        "id": "Bo-A-CUfIhSO",
        "outputId": "39587e92-d85f-43c9-e9f8-9d52c703233c"
      },
      "execution_count": null,
      "outputs": [
        {
          "output_type": "stream",
          "name": "stdout",
          "text": [
            "Cloning into './django'...\n",
            "remote: Enumerating objects: 179, done.\u001b[K\n",
            "remote: Counting objects: 100% (179/179), done.\u001b[K\n",
            "remote: Compressing objects: 100% (138/138), done.\u001b[K\n",
            "remote: Total 179 (delta 89), reused 103 (delta 29), pack-reused 0\u001b[K\n",
            "Receiving objects: 100% (179/179), 30.75 KiB | 1.40 MiB/s, done.\n",
            "Resolving deltas: 100% (89/89), done.\n"
          ]
        }
      ]
    },
    {
      "cell_type": "code",
      "source": [
        "!ls"
      ],
      "metadata": {
        "id": "4qtcCpOQHoHZ",
        "colab": {
          "base_uri": "https://localhost:8080/"
        },
        "outputId": "8f02dc15-04df-41c2-e332-eb030c819441"
      },
      "execution_count": null,
      "outputs": [
        {
          "output_type": "stream",
          "name": "stdout",
          "text": [
            "django\n"
          ]
        }
      ]
    },
    {
      "cell_type": "code",
      "source": [
        "%cd /content/drive/MyDrive/GitHub/django"
      ],
      "metadata": {
        "colab": {
          "base_uri": "https://localhost:8080/"
        },
        "id": "ITLlyiugEmfl",
        "outputId": "0c59aa6d-dff0-4813-cfec-993d1dace875"
      },
      "execution_count": null,
      "outputs": [
        {
          "output_type": "stream",
          "name": "stdout",
          "text": [
            "/content/drive/MyDrive/GitHub/django\n"
          ]
        }
      ]
    },
    {
      "cell_type": "code",
      "source": [
        "!pip install -r requirments.txt"
      ],
      "metadata": {
        "colab": {
          "base_uri": "https://localhost:8080/"
        },
        "id": "8j-LPzP4LCrt",
        "outputId": "26a4833e-69f6-4a78-daf7-ab8ffd5c98a1"
      },
      "execution_count": null,
      "outputs": [
        {
          "output_type": "stream",
          "name": "stdout",
          "text": [
            "Looking in indexes: https://pypi.org/simple, https://us-python.pkg.dev/colab-wheels/public/simple/\n",
            "Collecting asgiref==3.5.2 (from -r requirments.txt (line 1))\n",
            "  Downloading asgiref-3.5.2-py3-none-any.whl (22 kB)\n",
            "Collecting Django==4.1.2 (from -r requirments.txt (line 2))\n",
            "  Downloading Django-4.1.2-py3-none-any.whl (8.1 MB)\n",
            "\u001b[2K     \u001b[90m━━━━━━━━━━━━━━━━━━━━━━━━━━━━━━━━━━━━━━━━\u001b[0m \u001b[32m8.1/8.1 MB\u001b[0m \u001b[31m41.8 MB/s\u001b[0m eta \u001b[36m0:00:00\u001b[0m\n",
            "\u001b[?25hCollecting sqlparse==0.4.3 (from -r requirments.txt (line 3))\n",
            "  Downloading sqlparse-0.4.3-py3-none-any.whl (42 kB)\n",
            "\u001b[2K     \u001b[90m━━━━━━━━━━━━━━━━━━━━━━━━━━━━━━━━━━━━━━━━\u001b[0m \u001b[32m42.8/42.8 kB\u001b[0m \u001b[31m4.8 MB/s\u001b[0m eta \u001b[36m0:00:00\u001b[0m\n",
            "\u001b[?25hCollecting tzdata==2022.5 (from -r requirments.txt (line 4))\n",
            "  Downloading tzdata-2022.5-py2.py3-none-any.whl (336 kB)\n",
            "\u001b[2K     \u001b[90m━━━━━━━━━━━━━━━━━━━━━━━━━━━━━━━━━━━━━━\u001b[0m \u001b[32m336.7/336.7 kB\u001b[0m \u001b[31m23.7 MB/s\u001b[0m eta \u001b[36m0:00:00\u001b[0m\n",
            "\u001b[?25hCollecting djangorestframework (from -r requirments.txt (line 5))\n",
            "  Downloading djangorestframework-3.14.0-py3-none-any.whl (1.1 MB)\n",
            "\u001b[2K     \u001b[90m━━━━━━━━━━━━━━━━━━━━━━━━━━━━━━━━━━━━━━━━\u001b[0m \u001b[32m1.1/1.1 MB\u001b[0m \u001b[31m40.8 MB/s\u001b[0m eta \u001b[36m0:00:00\u001b[0m\n",
            "\u001b[?25hRequirement already satisfied: markdown in /usr/local/lib/python3.10/dist-packages (from -r requirments.txt (line 6)) (3.4.3)\n",
            "Collecting django-filter (from -r requirments.txt (line 7))\n",
            "  Downloading django_filter-23.2-py3-none-any.whl (91 kB)\n",
            "\u001b[2K     \u001b[90m━━━━━━━━━━━━━━━━━━━━━━━━━━━━━━━━━━━━━━━━\u001b[0m \u001b[32m91.9/91.9 kB\u001b[0m \u001b[31m9.1 MB/s\u001b[0m eta \u001b[36m0:00:00\u001b[0m\n",
            "\u001b[?25hRequirement already satisfied: pytz in /usr/local/lib/python3.10/dist-packages (from djangorestframework->-r requirments.txt (line 5)) (2022.7.1)\n",
            "Installing collected packages: tzdata, sqlparse, asgiref, Django, djangorestframework, django-filter\n",
            "  Attempting uninstall: tzdata\n",
            "    Found existing installation: tzdata 2023.3\n",
            "    Uninstalling tzdata-2023.3:\n",
            "      Successfully uninstalled tzdata-2023.3\n",
            "  Attempting uninstall: sqlparse\n",
            "    Found existing installation: sqlparse 0.4.4\n",
            "    Uninstalling sqlparse-0.4.4:\n",
            "      Successfully uninstalled sqlparse-0.4.4\n",
            "  Attempting uninstall: asgiref\n",
            "    Found existing installation: asgiref 3.6.0\n",
            "    Uninstalling asgiref-3.6.0:\n",
            "      Successfully uninstalled asgiref-3.6.0\n",
            "  Attempting uninstall: Django\n",
            "    Found existing installation: Django 4.2.1\n",
            "    Uninstalling Django-4.2.1:\n",
            "      Successfully uninstalled Django-4.2.1\n",
            "Successfully installed Django-4.1.2 asgiref-3.5.2 django-filter-23.2 djangorestframework-3.14.0 sqlparse-0.4.3 tzdata-2022.5\n"
          ]
        }
      ]
    },
    {
      "cell_type": "code",
      "source": [
        "!python manage.py makemigrations"
      ],
      "metadata": {
        "colab": {
          "base_uri": "https://localhost:8080/"
        },
        "id": "BWBOk1-4Ltin",
        "outputId": "a0518ce4-921c-45b7-bf7a-371860caf941"
      },
      "execution_count": null,
      "outputs": [
        {
          "output_type": "stream",
          "name": "stdout",
          "text": [
            "No changes detected\n"
          ]
        }
      ]
    },
    {
      "cell_type": "code",
      "source": [
        "!ls"
      ],
      "metadata": {
        "colab": {
          "base_uri": "https://localhost:8080/"
        },
        "id": "cm8N0RIDn_QS",
        "outputId": "459b80ea-2fe8-485d-e5fd-f3ee7f0e2230"
      },
      "execution_count": null,
      "outputs": [
        {
          "output_type": "stream",
          "name": "stdout",
          "text": [
            "backend  db.sqlite3  divar_app\tLICENSE  manage.py  README.md  requirments.txt\n"
          ]
        }
      ]
    },
    {
      "cell_type": "code",
      "source": [
        "from google.colab.output import eval_js\n",
        "print(eval_js(\"google.colab.kernel.proxyPort(8000)\"))"
      ],
      "metadata": {
        "colab": {
          "base_uri": "https://localhost:8080/",
          "height": 34
        },
        "id": "9F-V516RKT7d",
        "outputId": "26531aaf-0847-421e-f073-586a686b77a7"
      },
      "execution_count": null,
      "outputs": [
        {
          "output_type": "stream",
          "name": "stdout",
          "text": [
            "https://s66gwoa9ly-496ff2e9c6d22116-8000-colab.googleusercontent.com/\n"
          ]
        }
      ]
    },
    {
      "cell_type": "code",
      "source": [
        "!python manage.py runserver 8000"
      ],
      "metadata": {
        "colab": {
          "base_uri": "https://localhost:8080/"
        },
        "id": "3LlM-qgTKs52",
        "outputId": "7a79b8fd-9b76-4ec3-e02b-9db170321701"
      },
      "execution_count": 16,
      "outputs": [
        {
          "metadata": {
            "tags": null
          },
          "name": "stdout",
          "output_type": "stream",
          "text": [
            "Watching for file changes with StatReloader\n",
            "Performing system checks...\n",
            "\n",
            "System check identified no issues (0 silenced).\n",
            "\u001b[31m\n",
            "You have 18 unapplied migration(s). Your project may not work properly until you apply the migrations for app(s): admin, auth, contenttypes, sessions.\u001b[0m\n",
            "\u001b[31mRun 'python manage.py migrate' to apply them.\u001b[0m\n",
            "May 13, 2023 - 05:41:46\n",
            "Django version 4.1.2, using settings 'backend.settings'\n",
            "Starting development server at http://127.0.0.1:8000/\n",
            "Quit the server with CONTROL-C.\n",
            "Not Found: /\n",
            "[13/May/2023 05:41:49] \u001b[33m\"GET / HTTP/1.1\" 404 2177\u001b[0m\n",
            "[13/May/2023 05:42:06] \u001b[m\"GET /divar/ HTTP/1.1\" 200 9965\u001b[0m\n",
            "[13/May/2023 05:42:07] \u001b[m\"GET /static/rest_framework/css/bootstrap.min.css HTTP/1.1\" 200 121457\u001b[0m\n",
            "[13/May/2023 05:42:07] \u001b[m\"GET /static/rest_framework/css/default.css HTTP/1.1\" 200 1152\u001b[0m\n",
            "[13/May/2023 05:42:07] \u001b[m\"GET /static/rest_framework/css/bootstrap-tweaks.css HTTP/1.1\" 200 3385\u001b[0m\n",
            "[13/May/2023 05:42:07] \u001b[m\"GET /static/rest_framework/js/prettify-min.js HTTP/1.1\" 200 13632\u001b[0m\n",
            "[13/May/2023 05:42:07] \u001b[m\"GET /static/rest_framework/js/ajax-form.js HTTP/1.1\" 200 3597\u001b[0m\n",
            "[13/May/2023 05:42:07] \u001b[m\"GET /static/rest_framework/js/jquery-3.5.1.min.js HTTP/1.1\" 200 89476\u001b[0m\n",
            "[13/May/2023 05:42:07] \u001b[m\"GET /static/rest_framework/js/default.js HTTP/1.1\" 200 1268\u001b[0m\n",
            "[13/May/2023 05:42:07] \u001b[m\"GET /static/rest_framework/js/bootstrap.min.js HTTP/1.1\" 200 39680\u001b[0m\n",
            "[13/May/2023 05:42:07] \u001b[m\"GET /static/rest_framework/css/prettify.css HTTP/1.1\" 200 817\u001b[0m\n",
            "[13/May/2023 05:42:08] \u001b[m\"GET /static/rest_framework/js/csrf.js HTTP/1.1\" 200 1719\u001b[0m\n",
            "[13/May/2023 05:42:08] \u001b[m\"GET /static/rest_framework/img/grid.png HTTP/1.1\" 200 1458\u001b[0m\n",
            "Not Found: /favicon.ico\n",
            "[13/May/2023 05:42:09] \u001b[33m\"GET /favicon.ico HTTP/1.1\" 404 2228\u001b[0m\n"
          ]
        }
      ]
    }
  ],
  "metadata": {
    "colab": {
      "provenance": [],
      "authorship_tag": "ABX9TyPa/Dah/pzDDEZ2erF/F4te",
      "include_colab_link": true
    },
    "kernelspec": {
      "display_name": "Python 3",
      "name": "python3"
    },
    "language_info": {
      "name": "python"
    }
  },
  "nbformat": 4,
  "nbformat_minor": 0
}